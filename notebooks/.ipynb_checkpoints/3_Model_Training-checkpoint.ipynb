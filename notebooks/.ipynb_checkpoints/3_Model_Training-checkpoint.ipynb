{
 "cells": [
  {
   "cell_type": "code",
   "execution_count": null,
   "metadata": {
    "vscode": {
     "languageId": "plaintext"
    }
   },
   "outputs": [],
   "source": [
    "# 3_Model_Training.ipynb\n",
    "# ------------------------------\n",
    "# PURPOSE: Train and evaluate an ML model, then save it\n",
    "\n",
    "import pandas as pd\n",
    "from sklearn.model_selection import train_test_split\n",
    "from xgboost import XGBRegressor\n",
    "from sklearn.metrics import mean_absolute_error, r2_score\n",
    "import joblib\n",
    "\n",
    "# 1. Load final feature dataset\n",
    "df = pd.read_csv(\"../data/processed/UHI_features.csv\")\n",
    "\n",
    "# 2. Define features and target\n",
    "X = df.drop(columns=[\"UHI_Index\"])  # Example: your target might be 'UHI_Index'\n",
    "y = df[\"UHI_Index\"]\n",
    "\n",
    "# 3. Split into train/test\n",
    "X_train, X_test, y_train, y_test = train_test_split(\n",
    "    X, y, test_size=0.3, random_state=42\n",
    ")\n",
    "\n",
    "# 4. Train a baseline XGBoost model\n",
    "model = XGBRegressor(n_estimators=100, learning_rate=0.1, random_state=42)\n",
    "model.fit(X_train, y_train)\n",
    "\n",
    "# 5. Evaluate\n",
    "y_pred = model.predict(X_test)\n",
    "print(f\"R² Score: {r2_score(y_test, y_pred):.4f}\")\n",
    "print(f\"MAE: {mean_absolute_error(y_test, y_pred):.4f}\")\n",
    "\n",
    "# 6. Save the model\n",
    "joblib.dump(model, \"../models/UHI_xgboost.pkl\")\n",
    "print(\"Model training complete! Model saved to '../models/UHI_xgboost.pkl'.\")\n",
    "\n",
    "# 7. (Optional) Create a submission file if you have a submission template\n",
    "submission = pd.DataFrame({\"id\": X_test.index, \"predicted_UHI_Index\": y_pred})\n",
    "submission.to_csv(\"../Submission_template.csv\", index=False)\n",
    "print(\"Submission file created: '../Submission_template.csv'\")\n"
   ]
  }
 ],
 "metadata": {
  "kernelspec": {
   "display_name": "Python 3 (ipykernel)",
   "language": "python",
   "name": "python3"
  },
  "language_info": {
   "codemirror_mode": {
    "name": "ipython",
    "version": 3
   },
   "file_extension": ".py",
   "mimetype": "text/x-python",
   "name": "python",
   "nbconvert_exporter": "python",
   "pygments_lexer": "ipython3",
   "version": "3.13.2"
  }
 },
 "nbformat": 4,
 "nbformat_minor": 4
}
