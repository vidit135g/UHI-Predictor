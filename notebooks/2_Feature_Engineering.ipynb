{
 "cells": [
  {
   "cell_type": "code",
   "execution_count": 14,
   "metadata": {
    "vscode": {
     "languageId": "plaintext"
    }
   },
   "outputs": [
    {
     "name": "stdout",
     "output_type": "stream",
     "text": [
      "✅ Converted both datasets to GeoDataFrames.\n",
      "✅ Converted Building Footprints to GeoDataFrame: 0    MULTIPOLYGON (((-73.91903 40.8482, -73.91933 4...\n",
      "1    MULTIPOLYGON (((-73.92195 40.84963, -73.92191 ...\n",
      "2    MULTIPOLYGON (((-73.9205 40.85011, -73.92045 4...\n",
      "3    MULTIPOLYGON (((-73.92056 40.8514, -73.92053 4...\n",
      "4    MULTIPOLYGON (((-73.91234 40.85218, -73.91247 ...\n",
      "Name: geometry, dtype: geometry\n",
      "✅ Spatial join completed. Assigned buildings to UHI locations.\n",
      "✅ Merged UHI data with Weather data.\n",
      "✅ Extracted time-based features.\n",
      "✅ Missing values handled.\n",
      "✅ Feature Engineering Completed. Saved `UHI_features.csv` with location_id.\n"
     ]
    }
   ],
   "source": [
    "import pandas as pd\n",
    "import geopandas as gpd\n",
    "from shapely.geometry import Point\n",
    "\n",
    "# Load UHI dataset\n",
    "uhi_df = pd.read_csv(\"../data/raw/UHI_data.csv\")\n",
    "\n",
    "# Convert UHI to GeoDataFrame using Longitude & Latitude\n",
    "uhi_gdf = gpd.GeoDataFrame(\n",
    "    uhi_df, \n",
    "    geometry=gpd.points_from_xy(uhi_df[\"Longitude\"], uhi_df[\"Latitude\"]),\n",
    "    crs=\"EPSG:4326\")\n",
    "\n",
    "# Load Weather Data\n",
    "\n",
    "\n",
    "weather_df = pd.read_csv(\"../data/processed/weather_data.csv\")\n",
    "weather_df.rename(columns={\"Date / Time\": \"datetime\"}, inplace=True)\n",
    "weather_df[\"datetime\"] = weather_df[\"datetime\"].str.replace(r\" EDT\", \"\", regex=True)\n",
    "weather_df[\"datetime\"] = pd.to_datetime(weather_df[\"datetime\"], format=\"%d-%m-%Y %H:%M\", errors=\"coerce\", dayfirst=True)\n",
    "\n",
    "# Load Building Footprints (GeoJSON / KML)\n",
    "building_gdf = gpd.read_file(\"../data/processed/building_footprints.csv\")\n",
    "\n",
    "print(\"✅ Converted both datasets to GeoDataFrames.\")\n",
    "\n",
    "# Convert Building Footprints to GeoDataFrame\n",
    "building_gdf = gpd.GeoDataFrame(building_df, geometry=gpd.GeoSeries.from_wkt(building_df[\"geometry\"]), crs=\"EPSG:4326\")\n",
    "\n",
    "# Ensure correct GeoDataFrame conversion\n",
    "print(\"✅ Converted Building Footprints to GeoDataFrame:\", building_gdf.geometry.head())\n",
    "\n",
    "# Perform spatial join: Assign each UHI location a building polygon\n",
    "uhi_gdf = gpd.sjoin(uhi_gdf, building_gdf, how=\"left\", predicate=\"within\")\n",
    "\n",
    "# Assign unique IDs to buildings\n",
    "uhi_gdf[\"location_id\"] = uhi_gdf[\"index_right\"].astype(str)\n",
    "print(\"✅ Spatial join completed. Assigned buildings to UHI locations.\")\n",
    "\n",
    "# Drop unnecessary columns\n",
    "uhi_gdf.drop(columns=[\"index_right\", \"geometry\", \"Longitude\", \"Latitude\"], errors=\"ignore\", inplace=True)\n",
    "\n",
    "# Ensure datetime is in correct format\n",
    "uhi_gdf[\"datetime\"] = pd.to_datetime(uhi_gdf[\"datetime\"], format=\"%d-%m-%Y %H:%M\", errors=\"coerce\", dayfirst=True)\n",
    "weather_df[\"datetime\"] = pd.to_datetime(weather_df[\"datetime\"], errors=\"coerce\")\n",
    "\n",
    "# Merge UHI Data with Weather Data\n",
    "uhi_gdf = uhi_gdf.merge(weather_df, on=\"datetime\", how=\"left\")\n",
    "print(\"✅ Merged UHI data with Weather data.\")\n",
    "\n",
    "# Extract Time Features\n",
    "uhi_gdf['hour'] = uhi_gdf['datetime'].dt.hour\n",
    "uhi_gdf['day'] = uhi_gdf['datetime'].dt.day\n",
    "uhi_gdf['month'] = uhi_gdf['datetime'].dt.month\n",
    "uhi_gdf['weekday'] = uhi_gdf['datetime'].dt.weekday\n",
    "print(\"✅ Extracted time-based features.\")\n",
    "\n",
    "# Fill missing values\n",
    "uhi_gdf.ffill(inplace=True)\n",
    "print(\"✅ Missing values handled.\")\n",
    "\n",
    "# Save processed UHI data with location_id\n",
    "uhi_gdf.to_csv(\"../data/processed/UHI_features.csv\", index=False)\n",
    "print(\"✅ Feature Engineering Completed. Saved `UHI_features.csv` with location_id.\")\n"
   ]
  },
  {
   "cell_type": "code",
   "execution_count": null,
   "metadata": {},
   "outputs": [],
   "source": []
  },
  {
   "cell_type": "code",
   "execution_count": null,
   "metadata": {},
   "outputs": [],
   "source": []
  }
 ],
 "metadata": {
  "kernelspec": {
   "display_name": "Python 3 (ipykernel)",
   "language": "python",
   "name": "python3"
  },
  "language_info": {
   "codemirror_mode": {
    "name": "ipython",
    "version": 3
   },
   "file_extension": ".py",
   "mimetype": "text/x-python",
   "name": "python",
   "nbconvert_exporter": "python",
   "pygments_lexer": "ipython3",
   "version": "3.13.2"
  }
 },
 "nbformat": 4,
 "nbformat_minor": 4
}
