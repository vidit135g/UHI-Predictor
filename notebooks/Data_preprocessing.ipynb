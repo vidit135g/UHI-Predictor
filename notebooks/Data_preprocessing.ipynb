{
 "cells": [
  {
   "cell_type": "code",
   "execution_count": null,
   "metadata": {},
   "outputs": [
    {
     "name": "stdout",
     "output_type": "stream",
     "text": [
      "✅ Models and Scaler Loaded Successfully\n",
      "✅ Loaded Submission Data. Shape: (1040, 3)\n"
     ]
    },
    {
     "name": "stderr",
     "output_type": "stream",
     "text": [
      "Extracting Sentinel-2 Data: 100%|██████████| 1040/1040 [00:02<00:00, 456.64it/s]\n"
     ]
    },
    {
     "ename": "ValueError",
     "evalue": "The feature names should match those that were passed during fit.\nFeature names unseen at fit time:\n- NDBI\n- NDVI\n- UHI Index\nFeature names seen at fit time, yet now missing:\n- air_temp_at_surface_\n- avg_wind_speed_\n- evi\n- heat_index\n- humidity_temp_interaction\n- ...\n",
     "output_type": "error",
     "traceback": [
      "\u001b[0;31m---------------------------------------------------------------------------\u001b[0m",
      "\u001b[0;31mValueError\u001b[0m                                Traceback (most recent call last)",
      "Cell \u001b[0;32mIn[1], line 61\u001b[0m\n\u001b[1;32m     58\u001b[0m submission_data\u001b[38;5;241m.\u001b[39mdrop(columns\u001b[38;5;241m=\u001b[39m[\u001b[38;5;124m\"\u001b[39m\u001b[38;5;124mLongitude\u001b[39m\u001b[38;5;124m\"\u001b[39m, \u001b[38;5;124m\"\u001b[39m\u001b[38;5;124mLatitude\u001b[39m\u001b[38;5;124m\"\u001b[39m], inplace\u001b[38;5;241m=\u001b[39m\u001b[38;5;28;01mTrue\u001b[39;00m)\n\u001b[1;32m     60\u001b[0m \u001b[38;5;66;03m# 📌 **Feature Scaling**\u001b[39;00m\n\u001b[0;32m---> 61\u001b[0m scaled_features \u001b[38;5;241m=\u001b[39m \u001b[43mscaler\u001b[49m\u001b[38;5;241;43m.\u001b[39;49m\u001b[43mtransform\u001b[49m\u001b[43m(\u001b[49m\u001b[43msubmission_data\u001b[49m\u001b[43m)\u001b[49m\n\u001b[1;32m     63\u001b[0m \u001b[38;5;66;03m# ✅ Convert to DataFrame & Align with Model Input\u001b[39;00m\n\u001b[1;32m     64\u001b[0m submission_final \u001b[38;5;241m=\u001b[39m pd\u001b[38;5;241m.\u001b[39mDataFrame(scaled_features, columns\u001b[38;5;241m=\u001b[39msubmission_data\u001b[38;5;241m.\u001b[39mcolumns)\n",
      "File \u001b[0;32m~/UHI-Predictor/venv/lib/python3.13/site-packages/sklearn/utils/_set_output.py:319\u001b[0m, in \u001b[0;36m_wrap_method_output.<locals>.wrapped\u001b[0;34m(self, X, *args, **kwargs)\u001b[0m\n\u001b[1;32m    317\u001b[0m \u001b[38;5;129m@wraps\u001b[39m(f)\n\u001b[1;32m    318\u001b[0m \u001b[38;5;28;01mdef\u001b[39;00m\u001b[38;5;250m \u001b[39m\u001b[38;5;21mwrapped\u001b[39m(\u001b[38;5;28mself\u001b[39m, X, \u001b[38;5;241m*\u001b[39margs, \u001b[38;5;241m*\u001b[39m\u001b[38;5;241m*\u001b[39mkwargs):\n\u001b[0;32m--> 319\u001b[0m     data_to_wrap \u001b[38;5;241m=\u001b[39m \u001b[43mf\u001b[49m\u001b[43m(\u001b[49m\u001b[38;5;28;43mself\u001b[39;49m\u001b[43m,\u001b[49m\u001b[43m \u001b[49m\u001b[43mX\u001b[49m\u001b[43m,\u001b[49m\u001b[43m \u001b[49m\u001b[38;5;241;43m*\u001b[39;49m\u001b[43margs\u001b[49m\u001b[43m,\u001b[49m\u001b[43m \u001b[49m\u001b[38;5;241;43m*\u001b[39;49m\u001b[38;5;241;43m*\u001b[39;49m\u001b[43mkwargs\u001b[49m\u001b[43m)\u001b[49m\n\u001b[1;32m    320\u001b[0m     \u001b[38;5;28;01mif\u001b[39;00m \u001b[38;5;28misinstance\u001b[39m(data_to_wrap, \u001b[38;5;28mtuple\u001b[39m):\n\u001b[1;32m    321\u001b[0m         \u001b[38;5;66;03m# only wrap the first output for cross decomposition\u001b[39;00m\n\u001b[1;32m    322\u001b[0m         return_tuple \u001b[38;5;241m=\u001b[39m (\n\u001b[1;32m    323\u001b[0m             _wrap_data_with_container(method, data_to_wrap[\u001b[38;5;241m0\u001b[39m], X, \u001b[38;5;28mself\u001b[39m),\n\u001b[1;32m    324\u001b[0m             \u001b[38;5;241m*\u001b[39mdata_to_wrap[\u001b[38;5;241m1\u001b[39m:],\n\u001b[1;32m    325\u001b[0m         )\n",
      "File \u001b[0;32m~/UHI-Predictor/venv/lib/python3.13/site-packages/sklearn/preprocessing/_data.py:1062\u001b[0m, in \u001b[0;36mStandardScaler.transform\u001b[0;34m(self, X, copy)\u001b[0m\n\u001b[1;32m   1059\u001b[0m check_is_fitted(\u001b[38;5;28mself\u001b[39m)\n\u001b[1;32m   1061\u001b[0m copy \u001b[38;5;241m=\u001b[39m copy \u001b[38;5;28;01mif\u001b[39;00m copy \u001b[38;5;129;01mis\u001b[39;00m \u001b[38;5;129;01mnot\u001b[39;00m \u001b[38;5;28;01mNone\u001b[39;00m \u001b[38;5;28;01melse\u001b[39;00m \u001b[38;5;28mself\u001b[39m\u001b[38;5;241m.\u001b[39mcopy\n\u001b[0;32m-> 1062\u001b[0m X \u001b[38;5;241m=\u001b[39m \u001b[43mvalidate_data\u001b[49m\u001b[43m(\u001b[49m\n\u001b[1;32m   1063\u001b[0m \u001b[43m    \u001b[49m\u001b[38;5;28;43mself\u001b[39;49m\u001b[43m,\u001b[49m\n\u001b[1;32m   1064\u001b[0m \u001b[43m    \u001b[49m\u001b[43mX\u001b[49m\u001b[43m,\u001b[49m\n\u001b[1;32m   1065\u001b[0m \u001b[43m    \u001b[49m\u001b[43mreset\u001b[49m\u001b[38;5;241;43m=\u001b[39;49m\u001b[38;5;28;43;01mFalse\u001b[39;49;00m\u001b[43m,\u001b[49m\n\u001b[1;32m   1066\u001b[0m \u001b[43m    \u001b[49m\u001b[43maccept_sparse\u001b[49m\u001b[38;5;241;43m=\u001b[39;49m\u001b[38;5;124;43m\"\u001b[39;49m\u001b[38;5;124;43mcsr\u001b[39;49m\u001b[38;5;124;43m\"\u001b[39;49m\u001b[43m,\u001b[49m\n\u001b[1;32m   1067\u001b[0m \u001b[43m    \u001b[49m\u001b[43mcopy\u001b[49m\u001b[38;5;241;43m=\u001b[39;49m\u001b[43mcopy\u001b[49m\u001b[43m,\u001b[49m\n\u001b[1;32m   1068\u001b[0m \u001b[43m    \u001b[49m\u001b[43mdtype\u001b[49m\u001b[38;5;241;43m=\u001b[39;49m\u001b[43mFLOAT_DTYPES\u001b[49m\u001b[43m,\u001b[49m\n\u001b[1;32m   1069\u001b[0m \u001b[43m    \u001b[49m\u001b[43mforce_writeable\u001b[49m\u001b[38;5;241;43m=\u001b[39;49m\u001b[38;5;28;43;01mTrue\u001b[39;49;00m\u001b[43m,\u001b[49m\n\u001b[1;32m   1070\u001b[0m \u001b[43m    \u001b[49m\u001b[43mensure_all_finite\u001b[49m\u001b[38;5;241;43m=\u001b[39;49m\u001b[38;5;124;43m\"\u001b[39;49m\u001b[38;5;124;43mallow-nan\u001b[39;49m\u001b[38;5;124;43m\"\u001b[39;49m\u001b[43m,\u001b[49m\n\u001b[1;32m   1071\u001b[0m \u001b[43m\u001b[49m\u001b[43m)\u001b[49m\n\u001b[1;32m   1073\u001b[0m \u001b[38;5;28;01mif\u001b[39;00m sparse\u001b[38;5;241m.\u001b[39missparse(X):\n\u001b[1;32m   1074\u001b[0m     \u001b[38;5;28;01mif\u001b[39;00m \u001b[38;5;28mself\u001b[39m\u001b[38;5;241m.\u001b[39mwith_mean:\n",
      "File \u001b[0;32m~/UHI-Predictor/venv/lib/python3.13/site-packages/sklearn/utils/validation.py:2919\u001b[0m, in \u001b[0;36mvalidate_data\u001b[0;34m(_estimator, X, y, reset, validate_separately, skip_check_array, **check_params)\u001b[0m\n\u001b[1;32m   2835\u001b[0m \u001b[38;5;28;01mdef\u001b[39;00m\u001b[38;5;250m \u001b[39m\u001b[38;5;21mvalidate_data\u001b[39m(\n\u001b[1;32m   2836\u001b[0m     _estimator,\n\u001b[1;32m   2837\u001b[0m     \u001b[38;5;241m/\u001b[39m,\n\u001b[0;32m   (...)\u001b[0m\n\u001b[1;32m   2843\u001b[0m     \u001b[38;5;241m*\u001b[39m\u001b[38;5;241m*\u001b[39mcheck_params,\n\u001b[1;32m   2844\u001b[0m ):\n\u001b[1;32m   2845\u001b[0m \u001b[38;5;250m    \u001b[39m\u001b[38;5;124;03m\"\"\"Validate input data and set or check feature names and counts of the input.\u001b[39;00m\n\u001b[1;32m   2846\u001b[0m \n\u001b[1;32m   2847\u001b[0m \u001b[38;5;124;03m    This helper function should be used in an estimator that requires input\u001b[39;00m\n\u001b[0;32m   (...)\u001b[0m\n\u001b[1;32m   2917\u001b[0m \u001b[38;5;124;03m        validated.\u001b[39;00m\n\u001b[1;32m   2918\u001b[0m \u001b[38;5;124;03m    \"\"\"\u001b[39;00m\n\u001b[0;32m-> 2919\u001b[0m     \u001b[43m_check_feature_names\u001b[49m\u001b[43m(\u001b[49m\u001b[43m_estimator\u001b[49m\u001b[43m,\u001b[49m\u001b[43m \u001b[49m\u001b[43mX\u001b[49m\u001b[43m,\u001b[49m\u001b[43m \u001b[49m\u001b[43mreset\u001b[49m\u001b[38;5;241;43m=\u001b[39;49m\u001b[43mreset\u001b[49m\u001b[43m)\u001b[49m\n\u001b[1;32m   2920\u001b[0m     tags \u001b[38;5;241m=\u001b[39m get_tags(_estimator)\n\u001b[1;32m   2921\u001b[0m     \u001b[38;5;28;01mif\u001b[39;00m y \u001b[38;5;129;01mis\u001b[39;00m \u001b[38;5;28;01mNone\u001b[39;00m \u001b[38;5;129;01mand\u001b[39;00m tags\u001b[38;5;241m.\u001b[39mtarget_tags\u001b[38;5;241m.\u001b[39mrequired:\n",
      "File \u001b[0;32m~/UHI-Predictor/venv/lib/python3.13/site-packages/sklearn/utils/validation.py:2777\u001b[0m, in \u001b[0;36m_check_feature_names\u001b[0;34m(estimator, X, reset)\u001b[0m\n\u001b[1;32m   2774\u001b[0m \u001b[38;5;28;01mif\u001b[39;00m \u001b[38;5;129;01mnot\u001b[39;00m missing_names \u001b[38;5;129;01mand\u001b[39;00m \u001b[38;5;129;01mnot\u001b[39;00m unexpected_names:\n\u001b[1;32m   2775\u001b[0m     message \u001b[38;5;241m+\u001b[39m\u001b[38;5;241m=\u001b[39m \u001b[38;5;124m\"\u001b[39m\u001b[38;5;124mFeature names must be in the same order as they were in fit.\u001b[39m\u001b[38;5;130;01m\\n\u001b[39;00m\u001b[38;5;124m\"\u001b[39m\n\u001b[0;32m-> 2777\u001b[0m \u001b[38;5;28;01mraise\u001b[39;00m \u001b[38;5;167;01mValueError\u001b[39;00m(message)\n",
      "\u001b[0;31mValueError\u001b[0m: The feature names should match those that were passed during fit.\nFeature names unseen at fit time:\n- NDBI\n- NDVI\n- UHI Index\nFeature names seen at fit time, yet now missing:\n- air_temp_at_surface_\n- avg_wind_speed_\n- evi\n- heat_index\n- humidity_temp_interaction\n- ...\n"
     ]
    }
   ],
   "source": [
    "import pandas as pd\n",
    "\n",
    "# ------------------------- 1️⃣ Load UHI Dataset -------------------------\n",
    "print(\"\\n🔹 Loading UHI Dataset...\")\n",
    "uhi_path = \"../data/processed/UHI_with_LST_Sentinel_Final.csv\"\n",
    "uhi_df = pd.read_csv(uhi_path)\n",
    "\n",
    "# Convert datetime column\n",
    "uhi_df[\"datetime\"] = pd.to_datetime(uhi_df[\"datetime\"], dayfirst=True, errors=\"coerce\")\n",
    "\n",
    "print(f\"✅ UHI Dataset Loaded. Shape: {uhi_df.shape}\")\n",
    "print(f\"🔹 UHI Columns: {uhi_df.columns}\\n\")\n",
    "\n",
    "\n",
    "# ------------------------- 2️⃣ Load Weather Dataset -------------------------\n",
    "print(\"\\n🔹 Loading Weather Dataset...\")\n",
    "weather_path = \"../data/raw/NY_Mesonet_Weather.xlsx\"\n",
    "\n",
    "# Load all sheets\n",
    "weather_sheets = pd.ExcelFile(weather_path).sheet_names\n",
    "print(f\"📌 Available Weather Sheets: {weather_sheets}\")\n",
    "\n",
    "weather_dfs = []\n",
    "for sheet in [\"Bronx\", \"Manhattan\"]:\n",
    "    df = pd.read_excel(weather_path, sheet_name=sheet)\n",
    "    \n",
    "    # Fix datetime column issue\n",
    "    df.columns = df.columns.str.lower().str.replace(\" \", \"_\")\n",
    "    df.rename(columns={\"date_/_time\": \"datetime\"}, inplace=True)\n",
    "\n",
    "    if \"datetime\" not in df.columns:\n",
    "        print(f\"⚠️ 'datetime' column not found in {sheet}, skipping merge.\")\n",
    "        continue  \n",
    "\n",
    "    # Remove timezone and parse datetime correctly\n",
    "    df[\"datetime\"] = df[\"datetime\"].astype(str).str.replace(\" EDT\", \"\", regex=False)\n",
    "    df[\"datetime\"] = pd.to_datetime(df[\"datetime\"], dayfirst=True, errors=\"coerce\")\n",
    "\n",
    "    weather_dfs.append(df)\n",
    "\n",
    "# Merge Bronx & Manhattan Weather data\n",
    "weather_df = pd.concat(weather_dfs, ignore_index=True)\n",
    "\n",
    "# Remove duplicates by averaging over timestamps\n",
    "weather_df = weather_df.groupby(\"datetime\").mean().reset_index()\n",
    "\n",
    "# 🔹 Fix: Set datetime as index before interpolation\n",
    "weather_df.set_index(\"datetime\", inplace=True)\n",
    "weather_df.interpolate(method=\"time\", inplace=True)\n",
    "weather_df.reset_index(inplace=True)  # Restore datetime as a column\n",
    "\n",
    "print(f\"✅ Weather Data Processed. Shape: {weather_df.shape}\")\n",
    "print(f\"🔹 Weather Columns: {weather_df.columns}\\n\")\n",
    "\n",
    "\n",
    "# ------------------------- 3️⃣ Merge UHI with Weather Data -------------------------\n",
    "print(\"\\n🔹 Merging UHI with Weather Data...\")\n",
    "merged_df = pd.merge(uhi_df, weather_df, on=\"datetime\", how=\"left\")\n",
    "\n",
    "# 🔹 Fill remaining missing values with forward fill method\n",
    "# Handle missing values using forward fill, backward fill, and interpolation\n",
    "merged_df.set_index(\"datetime\", inplace=True)  # Set datetime as index\n",
    "merged_df = merged_df.interpolate(method=\"time\")  # Time-based interpolation\n",
    "merged_df.fillna(method=\"ffill\", inplace=True)  # Forward fill\n",
    "merged_df.fillna(method=\"bfill\", inplace=True)  # Backward fill\n",
    "merged_df.reset_index(inplace=True)  # Restore datetime column\n",
    "\n",
    "print(f\"✅ Merged Weather Data. Shape: {merged_df.shape}\")\n",
    "\n",
    "# Save the final merged dataset\n",
    "output_path = \"../data/processed/UHI_Weather_Merged.csv\"\n",
    "merged_df.to_csv(output_path, index=False)\n",
    "print(f\"✅ Final dataset saved: {output_path}\")\n",
    "\n",
    "\n",
    "# ------------------------- 4️⃣ Summary Statistics -------------------------\n",
    "print(\"\\n📌 Final Merged Dataset Summary:\")\n",
    "print(merged_df.info())\n",
    "print(merged_df.head())"
   ]
  }
 ],
 "metadata": {
  "kernelspec": {
   "display_name": "venv",
   "language": "python",
   "name": "python3"
  },
  "language_info": {
   "codemirror_mode": {
    "name": "ipython",
    "version": 3
   },
   "file_extension": ".py",
   "mimetype": "text/x-python",
   "name": "python",
   "nbconvert_exporter": "python",
   "pygments_lexer": "ipython3",
   "version": "3.13.2"
  }
 },
 "nbformat": 4,
 "nbformat_minor": 2
}
