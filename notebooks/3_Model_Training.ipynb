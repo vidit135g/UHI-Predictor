{
 "cells": [
  {
   "cell_type": "code",
   "execution_count": 7,
   "metadata": {
    "vscode": {
     "languageId": "plaintext"
    }
   },
   "outputs": [
    {
     "name": "stdout",
     "output_type": "stream",
     "text": [
      "Before datetime processing:\n",
      "Longitude    float64\n",
      "Latitude     float64\n",
      "datetime      object\n",
      "UHI Index    float64\n",
      "dtype: object\n",
      "\n",
      "After datetime processing:\n",
      "Longitude    float64\n",
      "Latitude     float64\n",
      "UHI Index    float64\n",
      "hour           int32\n",
      "day            int32\n",
      "month          int32\n",
      "weekday        int32\n",
      "dtype: object\n",
      "R² Score: 0.8773\n",
      "MAE: 0.0044\n",
      "Model saved successfully to ../models/UHI_xgboost.pkl\n"
     ]
    }
   ],
   "source": [
    "import pandas as pd\n",
    "from sklearn.model_selection import train_test_split\n",
    "from xgboost import XGBRegressor\n",
    "from sklearn.metrics import mean_absolute_error, r2_score\n",
    "import joblib\n",
    "\n",
    "# 1. Load the final feature dataset\n",
    "df = pd.read_csv(\"../data/processed/UHI_features.csv\")\n",
    "\n",
    "# Print initial data types for debugging\n",
    "print(\"Before datetime processing:\")\n",
    "print(df.dtypes)\n",
    "\n",
    "# 2. Convert 'datetime' column to datetime object and extract numeric features\n",
    "if 'datetime' in df.columns:\n",
    "    df['datetime'] = pd.to_datetime(df['datetime'], format='%Y-%m-%d %H:%M:%S', errors='coerce')\n",
    "    # Create numeric features: hour, day, month\n",
    "    df['hour'] = df['datetime'].dt.hour\n",
    "    df['day'] = df['datetime'].dt.day\n",
    "    df['month'] = df['datetime'].dt.month\n",
    "    # Optionally, you could extract other features like weekday\n",
    "    df['weekday'] = df['datetime'].dt.weekday\n",
    "    # Drop the original datetime column as it is non-numeric\n",
    "    df = df.drop(columns=[\"datetime\"])\n",
    "\n",
    "# Print data types after processing\n",
    "print(\"\\nAfter datetime processing:\")\n",
    "print(df.dtypes)\n",
    "\n",
    "# 3. Define features and target\n",
    "# Use the exact column name for target: 'UHI Index'\n",
    "X = df.drop(columns=[\"UHI Index\"])\n",
    "y = df[\"UHI Index\"]\n",
    "\n",
    "# 4. Split data into training and testing sets\n",
    "X_train, X_test, y_train, y_test = train_test_split(\n",
    "    X, y, test_size=0.3, random_state=42\n",
    ")\n",
    "\n",
    "# 5. Train a baseline XGBoost model\n",
    "model = XGBRegressor(n_estimators=100, learning_rate=0.1, random_state=42)\n",
    "model.fit(X_train, y_train)\n",
    "\n",
    "# 6. Evaluate the model\n",
    "y_pred = model.predict(X_test)\n",
    "print(f\"R² Score: {r2_score(y_test, y_pred):.4f}\")\n",
    "print(f\"MAE: {mean_absolute_error(y_test, y_pred):.4f}\")\n",
    "\n",
    "# 7. Save the trained model\n",
    "joblib.dump(model, \"../models/UHI_xgboost.pkl\")\n",
    "print(\"Model saved successfully to ../models/UHI_xgboost.pkl\")\n"
   ]
  },
  {
   "cell_type": "code",
   "execution_count": null,
   "metadata": {},
   "outputs": [],
   "source": []
  }
 ],
 "metadata": {
  "kernelspec": {
   "display_name": "Python 3 (ipykernel)",
   "language": "python",
   "name": "python3"
  },
  "language_info": {
   "codemirror_mode": {
    "name": "ipython",
    "version": 3
   },
   "file_extension": ".py",
   "mimetype": "text/x-python",
   "name": "python",
   "nbconvert_exporter": "python",
   "pygments_lexer": "ipython3",
   "version": "3.13.2"
  }
 },
 "nbformat": 4,
 "nbformat_minor": 4
}
